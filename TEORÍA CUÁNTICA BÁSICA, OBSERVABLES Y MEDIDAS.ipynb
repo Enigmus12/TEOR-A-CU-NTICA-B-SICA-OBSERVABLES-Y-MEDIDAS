{
 "cells": [
  {
   "cell_type": "markdown",
   "id": "c355aa75-8e10-4780-89d0-631a37436eb4",
   "metadata": {},
   "source": [
    "## SIMULE EL PRIMER SISTEMA CUÁNTICO DESCRITO EN LA SECCIÓN 4.1.\n",
    "El sistema consiste en una partícula confinada a un conjunto discreto de posiciones en una línea. El simulador debe permitir especificar el número de posiciones y un vector ket de estado asignando las amplitudes."
   ]
  },
  {
   "cell_type": "markdown",
   "id": "26a0077c-ee6b-4430-bb5c-0524cb091e04",
   "metadata": {},
   "source": [
    "\n",
    "1. El sistema debe calcular la probabilidad de encontrarlo en una posición en particular."
   ]
  },
  {
   "cell_type": "code",
   "execution_count": 17,
   "id": "8f99e3c8-c5c9-4e9c-ac03-106edb6f809d",
   "metadata": {},
   "outputs": [
    {
     "name": "stdout",
     "output_type": "stream",
     "text": [
      "La probabilidad de encontrar la partícula en la posición 0 es 0.5263157894736842\n",
      "La probabilidad de encontrar la partícula en la posición 1 es 0.21052631578947364\n",
      "La probabilidad de encontrar la partícula en la posición 2 es 0.05263157894736841\n",
      "La probabilidad de encontrar la partícula en la posición 3 es 0.21052631578947364\n",
      "El resultado final es 1.0\n"
     ]
    }
   ],
   "source": [
    "import numpy as np\n",
    "\n",
    "def QuantumStates(vector, posicion):\n",
    "    \n",
    "    numerador = np.abs(vector[posicion])**2\n",
    "    denominador = np.linalg.norm(vector)**2\n",
    "\n",
    "    probabilidad = numerador/denominador\n",
    "    \n",
    "    return probabilidad\n",
    "\n",
    "def ejemplo():\n",
    "    vector = np.array([-3-1j, 0-2j,0+1j,2+0j])\n",
    "    posicion1= 0\n",
    "    posicion2= 1\n",
    "    posicion3= 2\n",
    "    posicion4= 3\n",
    "\n",
    "    # Calcular la probabilidad\n",
    "    probabilidad1 = QuantumStates(vector, posicion1)\n",
    "    probabilidad2 = QuantumStates(vector, posicion2)\n",
    "    probabilidad3 = QuantumStates(vector, posicion3)\n",
    "    probabilidad4 = QuantumStates(vector, posicion4)\n",
    "    resultado = probabilidad1 + probabilidad2 + probabilidad3 + probabilidad4\n",
    "    print(f\"La probabilidad de encontrar la partícula en la posición {posicion1} es {probabilidad1}\")\n",
    "    print(f\"La probabilidad de encontrar la partícula en la posición {posicion2} es {probabilidad2}\")\n",
    "    print(f\"La probabilidad de encontrar la partícula en la posición {posicion3} es {probabilidad3}\")\n",
    "    print(f\"La probabilidad de encontrar la partícula en la posición {posicion4} es {probabilidad4}\")\n",
    "    print(\"El resultado final es\", np.round(resultado))\n",
    "\n",
    "ejemplo()\n"
   ]
  },
  {
   "cell_type": "markdown",
   "id": "b5ce45af-89dd-4a9d-b528-d34e5ea3afc1",
   "metadata": {},
   "source": [
    "2. El sistema si se le da otro vector Ket debe buscar la probabilidad de transitar del primer vector al segundo."
   ]
  },
  {
   "cell_type": "code",
   "execution_count": 12,
   "id": "f752c27b-edd9-4dd6-bddc-266bdddbad9f",
   "metadata": {},
   "outputs": [
    {
     "name": "stdout",
     "output_type": "stream",
     "text": [
      "-1j\n"
     ]
    }
   ],
   "source": [
    "import numpy as np\n",
    "\n",
    "def normalize(vector):\n",
    "    norma = np.linalg.norm(vector)\n",
    "    normal = vector / norma\n",
    "    return normal\n",
    "\n",
    "def quantumStates(vector1, vector2):\n",
    "    inner_product = np.vdot(vector2, vector1)\n",
    "    return inner_product\n",
    "\n",
    "def main():\n",
    "    vector1 = np.array([1+0j, 0-1j]) \n",
    "    vector2 = np.array([0+1j, 1+0j]) \n",
    "\n",
    "    normalized_vector1 = normalize(vector1)\n",
    "    normalized_vector2 = normalize(vector2)\n",
    "\n",
    "    inner_product = quantumStates(normalized_vector1, normalized_vector2)\n",
    "    print(np.round(inner_product))\n",
    "\n",
    "main()"
   ]
  },
  {
   "cell_type": "markdown",
   "id": "5de467a1-60c4-4057-8c98-3e05b0683c18",
   "metadata": {},
   "source": [
    "## COMPLETE LOS RETOS DE PROGRAMACIÓN DEL CAPÍTULO 4.\n",
    "1. Amplitud de transición. El sistema puede recibir dos vectores y calcular la probabilidad de transitar de el uno al otro después de hacer la observación"
   ]
  },
  {
   "cell_type": "code",
   "execution_count": 14,
   "id": "b7f25cc7-1208-44e9-8949-90dd6966b040",
   "metadata": {},
   "outputs": [
    {
     "name": "stdout",
     "output_type": "stream",
     "text": [
      "1.0\n"
     ]
    }
   ],
   "source": [
    "import numpy as np\n",
    "\n",
    "def normalize(vector):\n",
    "    norma = np.linalg.norm(vector)\n",
    "    normal = vector / norma\n",
    "    return normal\n",
    "\n",
    "def quantumStates(vector1, vector2):\n",
    "    inner_product = np.vdot(vector2, vector1)\n",
    "    return inner_product\n",
    "\n",
    "def main():\n",
    "    vector1 = np.array([1+0j, 0-1j]) \n",
    "    vector2 = np.array([0+1j, 1+0j]) \n",
    "\n",
    "    normalized_vector1 = normalize(vector1)\n",
    "    normalized_vector2 = normalize(vector2)\n",
    "\n",
    "    inner_product = quantumStates(normalized_vector1, normalized_vector2)\n",
    "    \n",
    "    amplitud = np.linalg.norm(inner_product) ** 2\n",
    "    \n",
    "    print(np.round(amplitud))\n",
    "\n",
    "main()"
   ]
  },
  {
   "cell_type": "markdown",
   "id": "b5cd091a-b052-4e9c-b176-4f759739ce2d",
   "metadata": {},
   "source": [
    "2. Ahora con una matriz que describa un observable y un vector ket, el sistema revisa que la matriz sea hermitiana, y si lo es, calcula la media y la varianza del observable en el estado dado."
   ]
  },
  {
   "cell_type": "code",
   "execution_count": 51,
   "id": "1cf05eec-b96d-4805-9a02-0a8c559cce28",
   "metadata": {},
   "outputs": [
    {
     "name": "stdout",
     "output_type": "stream",
     "text": [
      "La media del observable en el estado dado es: 2.5000000000000004\n",
      "La varianza del observable en el estado dado es: 0.25\n"
     ]
    }
   ],
   "source": [
    "import numpy as np\n",
    "\n",
    "def hermitian(matrix):\n",
    "    return np.allclose(matrix, matrix.conj().T)\n",
    "\n",
    "def media_variance(observable, state):\n",
    "    if not hermitian(observable):\n",
    "        print(\"La matriz no es hermitiana.\")\n",
    "\n",
    "        return None, None\n",
    "    \n",
    "    media = np.dot(state.conj().T, np.dot(observable, state)).real\n",
    "\n",
    "    state_con_observable = np.dot(observable, state)\n",
    "    variance = np.dot(state.conj().T, np.dot(observable, state_con_observable)).real - media ** 2\n",
    "\n",
    "    return media, variance\n",
    "\n",
    "def main():\n",
    "    observable = np.array([[1, 1j], [-1j, 2]])\n",
    "    state = np.array([np.sqrt(2)/2, np.sqrt(2)/2j])\n",
    "    \n",
    "    media, variance = media_variance(observable, state)\n",
    "    \n",
    "    if media is not None:\n",
    "        print(\"La media del observable en el estado dado es:\", media)\n",
    "        print(\"La varianza del observable en el estado dado es:\", variance)\n",
    "\n",
    "\n",
    "main()\n"
   ]
  },
  {
   "cell_type": "markdown",
   "id": "1910d204-721f-44d5-ab77-8b2b60fd95c3",
   "metadata": {},
   "source": [
    "3. El sistema calcula los valores propios del observable y la probabilidad de que el sistema transite a alguno de los vectores propios después de la observación."
   ]
  },
  {
   "cell_type": "code",
   "execution_count": 56,
   "id": "9570f84e-ef43-4466-a485-46167a905113",
   "metadata": {},
   "outputs": [
    {
     "name": "stdout",
     "output_type": "stream",
     "text": [
      "Eigenvalues: [-1.41421356+0.j  1.41421356+0.j]\n",
      "Eigenvectors:\n",
      " [[ 0.92387953+0.j         -0.        -0.38268343j]\n",
      " [-0.        -0.38268343j  0.92387953+0.j        ]]\n",
      "Probabilidad: 0.5 0.5\n"
     ]
    }
   ],
   "source": [
    "import numpy as np\n",
    "\n",
    "def normalize(vector):\n",
    "    norma = np.linalg.norm(vector)\n",
    "    normal = vector / norma\n",
    "    return normal\n",
    "\n",
    "def eigenvalues(matriz):\n",
    "    eigenvalues, eigenvectors = np.linalg.eig(matriz)\n",
    "    \n",
    "    print(\"Eigenvalues:\", eigenvalues)\n",
    "    print(\"Eigenvectors:\\n\", eigenvectors)\n",
    "\n",
    "    return eigenvectors\n",
    "\n",
    "def main():\n",
    "    observable = np.array([[-1, -1j], [1j, 1]])\n",
    "    ket = np.array([[1/2, 1/2]]).T\n",
    "    ketN = normalize(ket)\n",
    "    eigenvectors = eigenvalues(observable)\n",
    "    eigenvector1 = eigenvectors[:, 0]\n",
    "    eigenvector2 = eigenvectors[:, 1]\n",
    "\n",
    "    p1 = np.round(np.linalg.norm(np.vdot(ketN.T, eigenvector1))**2, 2)\n",
    "    p2 = np.round(np.linalg.norm(np.vdot(ketN.T, eigenvector2))**2, 2)\n",
    "\n",
    "    print(\"Probabilidad:\", p1, p2)\n",
    "\n",
    "\n",
    "main()\n"
   ]
  },
  {
   "cell_type": "markdown",
   "id": "e47a5ff2-daa5-42f8-abd9-4530a39d8efe",
   "metadata": {},
   "source": [
    "4. Se considera la dinámica del sistema. Ahora con una serie de matrices Un el sistema calcula el estado final a partir de un estado inicial."
   ]
  },
  {
   "cell_type": "code",
   "execution_count": 58,
   "id": "affd5e84-4c7f-4475-8591-85f79a88451b",
   "metadata": {},
   "outputs": [
    {
     "name": "stdout",
     "output_type": "stream",
     "text": [
      "Estado final del sistema:\n",
      "[0 1]\n"
     ]
    }
   ],
   "source": [
    "import numpy as np\n",
    "\n",
    "def evolve_system(matrices, state):\n",
    "    final_state = state\n",
    "    for matrix in matrices:\n",
    "        final_state = np.dot(matrix, final_state)\n",
    "    return final_state\n",
    "\n",
    "def main():\n",
    "    matrices = [\n",
    "        np.array([[1, 0], [0, 1]]), \n",
    "        np.array([[0, 1], [1, 0]]) \n",
    "    ]\n",
    "    state = np.array([1,0])  \n",
    "    \n",
    "    final_state = evolve_system(matrices, state)\n",
    "    \n",
    "    print(\"Estado final del sistema:\")\n",
    "    print(final_state)\n",
    "\n",
    "main()\n"
   ]
  },
  {
   "cell_type": "markdown",
   "id": "df4a3683-ba6e-46f4-b939-caf98a739b83",
   "metadata": {},
   "source": [
    "## REALICE LOS SIGUIENTES PROBLEMAS E INCLUYALOS COMO EJEMPLOS"
   ]
  },
  {
   "cell_type": "markdown",
   "id": "23da2f9e-4508-4c9d-baf6-ab3fff7928ea",
   "metadata": {},
   "source": [
    "## 4.3.1\n",
    "Find all the possible states the system described in Exercise 4.2.2\n",
    "can transition into after a measurement has been carried ou"
   ]
  },
  {
   "cell_type": "code",
   "execution_count": 3,
   "id": "c4ccb2b3-6400-4672-9e21-0bdc766c9e14",
   "metadata": {},
   "outputs": [
    {
     "name": "stdout",
     "output_type": "stream",
     "text": [
      "Estado resultante después de aplicar Sx al estado arriba:\n",
      "[[0]\n",
      " [1]]\n",
      "Probabilidad de que el estado resultante sea arriba: 0\n"
     ]
    }
   ],
   "source": [
    "import numpy as np\n",
    "\n",
    "estadoA = np.array([[1], [0]]) \n",
    "matriz_Sx = np.array([[0, 1], [1, 0]])\n",
    "\n",
    "estado_resultante = np.dot(matriz_Sx, estadoA)\n",
    "\n",
    "probabilidadA = np.abs(np.dot(estadoA.conj().T, estado_resultante)) ** 2\n",
    "\n",
    "print(\"Estado resultante después de aplicar Sx al estado arriba:\")\n",
    "print(estado_resultante)\n",
    "print(\"Probabilidad de que el estado resultante sea arriba:\", probabilidadA[0][0])\n"
   ]
  },
  {
   "cell_type": "markdown",
   "id": "430c81da-ff02-4b45-b22f-e25df9e8ba80",
   "metadata": {},
   "source": [
    "## 4.3.2\n",
    "Perform the same calculations as in the last example, using Exercise 4.3.1. Then draw the probability distribution of the eigenvalues as in the previous example."
   ]
  },
  {
   "cell_type": "code",
   "execution_count": 1,
   "id": "5ff83767-65d2-4658-94d3-23b71f09af2c",
   "metadata": {},
   "outputs": [
    {
     "data": {
      "image/png": "[encoded data removed]",
      "text/plain": [
       "<Figure size 640x480 with 1 Axes>"
      ]
     },
     "metadata": {},
     "output_type": "display_data"
    }
   ],
   "source": [
    "import numpy as np\n",
    "import matplotlib.pyplot as plt\n",
    "\n",
    "# Define matrices of evolution temporal (U_matrices) and the initial state\n",
    "U_matrices = [\n",
    "    np.array([[1, 0], [0, 1]]),   # For example, matrix of identity\n",
    "    np.array([[0, -1j], [1j, 0]]) # For example, Pauli-Y matrix\n",
    "]\n",
    "initial_state = np.array([1/np.sqrt(2), 1/np.sqrt(2)])  # For example, initial state in equal superposition\n",
    "\n",
    "# Function to evolve the system given U_matrices and initial_state\n",
    "def evolve_system(U_matrices, initial_state):\n",
    "    final_state = initial_state\n",
    "    for U_matrix in U_matrices:\n",
    "        final_state = np.dot(U_matrix, final_state)\n",
    "    return final_state\n",
    "\n",
    "# Calculate the final state of the system\n",
    "final_state = evolve_system(U_matrices, initial_state)\n",
    "\n",
    "# Calculate the probability distribution of the eigenvalues\n",
    "probabilities = np.abs(final_state) ** 2\n",
    "\n",
    "# Plot the probability distribution\n",
    "eigenvalues = np.arange(len(probabilities))\n",
    "plt.bar(eigenvalues, probabilities, color='blue')\n",
    "plt.xlabel('Eigenvalues')\n",
    "plt.ylabel('Probability')\n",
    "plt.title('Probability Distribution of Eigenvalues')\n",
    "plt.xticks(eigenvalues)\n",
    "plt.show()"
   ]
  },
  {
   "cell_type": "markdown",
   "id": "aef19624-f54d-4769-96f8-7da4a90668ca",
   "metadata": {},
   "source": [
    "## 4.4.1"
   ]
  },
  {
   "cell_type": "code",
   "execution_count": 4,
   "id": "b12d05c1-534b-47e0-af13-4fdcec0f52f9",
   "metadata": {},
   "outputs": [
    {
     "name": "stdout",
     "output_type": "stream",
     "text": [
      "U1: True\n",
      "U2: True\n",
      "U1*U2: True\n"
     ]
    }
   ],
   "source": [
    "import numpy as np\n",
    "def isUnitary(vector):\n",
    "    is_unitary = np.allclose(np.dot(vector, vector.conj().T), np.eye(2))\n",
    "    return is_unitary\n",
    "def ejemplo():\n",
    "    u1 = np.array([[0, 1], [1, 0]])\n",
    "    u2 = np.array([[np.sqrt(2)/2, np.sqrt(2)/2], [np.sqrt(2)/2, -np.sqrt(2)/2]])\n",
    "    mult = np.dot(u1, u2)\n",
    "    print(\"U1:\", isUnitary(u1))\n",
    "    print(\"U2:\", isUnitary(u2))\n",
    "    print(\"U1*U2:\", isUnitary(mult))\n",
    "ejemplo()"
   ]
  },
  {
   "cell_type": "markdown",
   "id": "29cb16da-552e-40e5-bbd3-0b75151fec93",
   "metadata": {},
   "source": [
    "## 4.4.2\n",
    "Go back to Example 3.3.2 (quantum billiard ball), keep the same\n",
    "initial state vector [1, 0, 0, 0]T, but change the unitary map to"
   ]
  },
  {
   "cell_type": "code",
   "execution_count": 6,
   "id": "072a8f69-211b-4c57-919e-d9722466b1e3",
   "metadata": {},
   "outputs": [
    {
     "name": "stdout",
     "output_type": "stream",
     "text": [
      "El estado del sistema despues de 3 tiempos es:  [ 0.        +0.j         -0.70710678+0.70710678j  0.        +0.j\n",
      "  0.        +0.j        ]\n",
      "Probabilidad de encontrar la bola cuántica en el punto 3: 0.0\n"
     ]
    }
   ],
   "source": [
    "import numpy as np\n",
    "\n",
    "# mapa\n",
    "mapa = np.array([\n",
    "    [0, 1/np.sqrt(2), 1/np.sqrt(2), 0],\n",
    "    [1j/np.sqrt(2), 0, 0, 1/np.sqrt(2)],\n",
    "    [1/np.sqrt(2), 0, 0, 1j/np.sqrt(2)],\n",
    "    [0, 1/np.sqrt(2), -1/np.sqrt(2), 0]\n",
    "])\n",
    "\n",
    "estado_inicial= np.array([1, 0, 0, 0])\n",
    "\n",
    "# mapa 3 veces\n",
    "estado_final = np.linalg.matrix_power(mapa, 3) @ estado_inicial\n",
    "\n",
    "# probabilidad\n",
    "probabilidad_punto = np.abs(estado_final[2])**2\n",
    "\n",
    "\n",
    "print(\"El estado del sistema despues de 3 tiempos es: \", estado_final)\n",
    "print(\"Probabilidad de encontrar la bola cuántica en el punto 3:\", probabilidad_punto)"
   ]
  },
  {
   "cell_type": "markdown",
   "id": "6ae1142d-edf9-45fb-9687-53f50733732a",
   "metadata": {},
   "source": [
    "## Desarrolle e incluya en el Github una discusión de los ejercicios"
   ]
  },
  {
   "cell_type": "markdown",
   "id": "830f71c1-bf94-4efe-b527-34420a29f3db",
   "metadata": {},
   "source": [
    "## 4.5.2"
   ]
  },
  {
   "cell_type": "markdown",
   "id": "07e7533c-f892-42fe-abd6-3ece6187be68",
   "metadata": {},
   "source": [
    "Sistema de Dos Partículas con Espín:\n",
    "\n",
    "Se comienza considerando un sistema de dos partículas con espín.\n",
    "El estado genérico de este sistema se representa como una combinación lineal de los posibles estados producto de las partículas.\n",
    "Esto se expresa mediante el producto tensorial de los estados individuales de cada partícula.\n",
    "\n",
    "Generalización a n Partículas:\n",
    "\n",
    "Luego, se generaliza este concepto para un sistema con \n",
    "n partículas.\n",
    "El estado genérico de un sistema de \n",
    "n partículas se describe como un producto tensorial de los estados individuales de cada partícula.\n",
    "Esto implica que el estado total del sistema se puede expresar como una combinación lineal de todos los posibles estados producto de las partículas.\n",
    "Entrelazamiento Cuántico:\n",
    "\n",
    "Se prepara el terreno para discutir el entrelazamiento cuántico.\n",
    "Este fenómeno se produce cuando el estado de un sistema no puede describirse como una combinación separable de los estados individuales de sus componentes.\n",
    "Desafía la visión clásica de que los sistemas compuestos pueden entenderse completamente en términos de sus partes constituyentes.\n",
    "El entrelazamiento cuántico tiene implicaciones importantes en la teleportación cuántica y la computación cuántica, y su comprensión es crucial para una comprensión profunda de la física cuántica."
   ]
  },
  {
   "cell_type": "markdown",
   "id": "d818f372-ee9e-447b-8ded-51eba61d8f0b",
   "metadata": {},
   "source": [
    "## 4.5.3"
   ]
  },
  {
   "cell_type": "markdown",
   "id": "c76f749f-e729-4e01-82bc-41e0548afaf0",
   "metadata": {},
   "source": [
    "se pregunta es si el estado ∣ϕ⟩ es separable. Un estado cuántico se considera separable si puede ser expresado como el producto tensorial de dos estados individuales.\n",
    "\n",
    "para determinar si  ∣ϕ⟩ es separable, es necesario verificar si se puede expresar como \n",
    "⟩\n",
    "⊗\n",
    "∣\n",
    "⟩\n",
    "∣ϕ⟩=∣α⟩⊗∣β⟩, donde \n",
    "∣\n",
    "⟩\n",
    "∣α⟩ y \n",
    "∣\n",
    "⟩\n",
    "∣β⟩ son estados individuales. Si se puede encontrar tal descomposición, entonces \n",
    "∣\n",
    "⟩\n",
    "∣ϕ⟩ es separable; de lo contrario, no lo es."
   ]
  },
  {
   "cell_type": "code",
   "execution_count": null,
   "id": "20a9804c-3374-4b31-8eae-57a8d1a4680a",
   "metadata": {},
   "outputs": [],
   "source": []
  }
 ],
 "metadata": {
  "kernelspec": {
   "display_name": "Python 3 (ipykernel)",
   "language": "python",
   "name": "python3"
  },
  "language_info": {
   "codemirror_mode": {
    "name": "ipython",
    "version": 3
   },
   "file_extension": ".py",
   "mimetype": "text/x-python",
   "name": "python",
   "nbconvert_exporter": "python",
   "pygments_lexer": "ipython3",
   "version": "3.11.5"
  }
 },
 "nbformat": 4,
 "nbformat_minor": 5
}
